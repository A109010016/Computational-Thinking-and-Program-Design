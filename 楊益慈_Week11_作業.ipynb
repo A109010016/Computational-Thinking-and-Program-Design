{
  "nbformat": 4,
  "nbformat_minor": 0,
  "metadata": {
    "kernelspec": {
      "display_name": "Python 3",
      "language": "python",
      "name": "python3"
    },
    "language_info": {
      "codemirror_mode": {
        "name": "ipython",
        "version": 3
      },
      "file_extension": ".py",
      "mimetype": "text/x-python",
      "name": "python",
      "nbconvert_exporter": "python",
      "pygments_lexer": "ipython3",
      "version": "3.8.5"
    },
    "colab": {
      "name": "  楊益慈-Week11-作業.ipynb",
      "provenance": [],
      "include_colab_link": true
    }
  },
  "cells": [
    {
      "cell_type": "markdown",
      "metadata": {
        "id": "view-in-github",
        "colab_type": "text"
      },
      "source": [
        "<a href=\"https://colab.research.google.com/github/A109010016/Computational-Thinking-and-Program-Design/blob/main/%E6%A5%8A%E7%9B%8A%E6%85%88_Week11_%E4%BD%9C%E6%A5%AD.ipynb\" target=\"_parent\"><img src=\"https://colab.research.google.com/assets/colab-badge.svg\" alt=\"Open In Colab\"/></a>"
      ]
    },
    {
      "cell_type": "markdown",
      "metadata": {
        "id": "4U7Lu9C3s3q5"
      },
      "source": [
        "# 基本程式設計(應用篇)"
      ]
    },
    {
      "cell_type": "markdown",
      "metadata": {
        "id": "n8Uhw5LJs3rA"
      },
      "source": [
        "### 4-2 運算思維四個基石"
      ]
    },
    {
      "cell_type": "markdown",
      "metadata": {
        "id": "6SQIDYD9s3rB"
      },
      "source": [
        "#### 4-2-4  問題拆解 - 打造你的聊天機器人"
      ]
    },
    {
      "cell_type": "markdown",
      "metadata": {
        "id": "fb1bVfTTs3rC"
      },
      "source": [
        "「哈囉，大家好。我叫Zyxo64，是一個聊天機器人。\n",
        "\n",
        "在嗜好與興趣方面，我很喜歡美食，也喜歡養動物。\n",
        "\n",
        "很高興有機會來到世新大學，請大家多多指教。\n",
        "\n",
        "嗨！妳好，請問大名？：Francis。\n",
        "\n",
        "Francis，很高興認識你。"
      ]
    },
    {
      "cell_type": "code",
      "metadata": {
        "id": "2v9I6GCRs3rC"
      },
      "source": [
        "# 1.聊天機器人自我介紹\n",
        "\n",
        "\n",
        "# 2. 打招呼，取得對方名字\n"
      ],
      "execution_count": null,
      "outputs": []
    },
    {
      "cell_type": "markdown",
      "metadata": {
        "id": "A2N9MZJZzGxn"
      },
      "source": [
        "「哈囉，大家好。我叫Zyxo64，是一個聊天機器人。\n",
        "在嗜好與興趣方面，我很喜歡美食，也喜歡養動物。\n",
        "很高興有機會來到世新大學，請大家多多指教。"
      ]
    },
    {
      "cell_type": "code",
      "metadata": {
        "colab": {
          "base_uri": "https://localhost:8080/"
        },
        "id": "PPQ1NNLAzF_M",
        "outputId": "c916581e-beb4-48da-aa21-733dfc230861"
      },
      "source": [
        "print(\"Hello\")\n",
        "name= input(\"What's your name?\")\n",
        "print(f\"{name}, Nice to meet you.\")"
      ],
      "execution_count": 2,
      "outputs": [
        {
          "output_type": "stream",
          "text": [
            "Hello\n",
            "What's your name?Christine\n",
            "Christine, Nice to meet you.\n"
          ],
          "name": "stdout"
        }
      ]
    },
    {
      "cell_type": "markdown",
      "metadata": {
        "id": "xZZiLGpYs3rD"
      },
      "source": [
        "抱歉，請問一下今年是西元2021年，那是民國幾年呢？：*110*。\n",
        "\n",
        "對！沒錯，謝謝妳！\n",
        "\n",
        "**Francis**，猜猜看我今年幾歲？ ：**18**。\n",
        "\n",
        "哇！你好聰明，我今年的確*18*。\n",
        "\n",
        "再82年我就100歲了。\n",
        "\n",
        "那時候是西元 2103年，也就是民國192年囉！"
      ]
    },
    {
      "cell_type": "code",
      "metadata": {
        "id": "kZ68cV4vs3rE"
      },
      "source": [
        "# 3. 數學運算\n",
        "## 3-1 從使用者取得今年年份\n",
        "\n",
        "\n",
        "## 3-2 請使用者猜年齡\n",
        "\n",
        "\n",
        "## 3-3 計算聊天機器人滿100歲的年份\n",
        "\n"
      ],
      "execution_count": null,
      "outputs": []
    },
    {
      "cell_type": "markdown",
      "metadata": {
        "id": "UZNoE9NG07hQ"
      },
      "source": [
        "抱歉，請問一下今年是西元2021年，那是民國幾年呢？：110。\n",
        "\n",
        "對！沒錯，謝謝妳！"
      ]
    },
    {
      "cell_type": "code",
      "metadata": {
        "colab": {
          "base_uri": "https://localhost:8080/"
        },
        "id": "B_7w_NE_0_hY",
        "outputId": "27fa5983-7933-48fb-e5a7-13a60ca5d92d"
      },
      "source": [
        "year= input(\"請問西元2021年是民國幾年呢？\")\n",
        "print(\"That's right! Thank you!\")"
      ],
      "execution_count": 3,
      "outputs": [
        {
          "output_type": "stream",
          "text": [
            "請問西元2021年是民國幾年呢？110\n",
            "That's right! Thank you!\n"
          ],
          "name": "stdout"
        }
      ]
    },
    {
      "cell_type": "markdown",
      "metadata": {
        "id": "fo6l4w7z13u1"
      },
      "source": [
        "猜猜看我今年幾歲？ ：18。\n",
        "\n",
        "哇！你好聰明，我今年的確18。"
      ]
    },
    {
      "cell_type": "code",
      "metadata": {
        "colab": {
          "base_uri": "https://localhost:8080/"
        },
        "id": "QzjIGID915c7",
        "outputId": "828fd6d6-0c4b-4f04-bbd4-bc636dd1990d"
      },
      "source": [
        "age = input(\"猜我今年幾歲？\")\n",
        "print(f\"哇！你好聰明，我今年的確{age}。\")\n"
      ],
      "execution_count": 4,
      "outputs": [
        {
          "output_type": "stream",
          "text": [
            "猜我今年幾歲？18\n",
            "哇！你好聰明，我今年的確18。\n"
          ],
          "name": "stdout"
        }
      ]
    },
    {
      "cell_type": "code",
      "metadata": {
        "colab": {
          "base_uri": "https://localhost:8080/"
        },
        "id": "pvlPaQ3e2zbV",
        "outputId": "5ef421f1-e239-48b9-d851-b0e8179dcb81"
      },
      "source": [
        "year= int(year)\n",
        "age= int(age)\n",
        "print(f\"再{100-age}年我就100歲了。\")\n",
        "time= year+1911+(100-age)\n",
        "print(f\"那時候是西元{time}年，也就是民國{time-1911}年囉!\")\n"
      ],
      "execution_count": 6,
      "outputs": [
        {
          "output_type": "stream",
          "text": [
            "再82年我就100歲了。\n",
            "那時候是西元2103年，也就是民國192年囉!\n"
          ],
          "name": "stdout"
        }
      ]
    },
    {
      "cell_type": "markdown",
      "metadata": {
        "id": "a-X8ZVwDs3rE"
      },
      "source": [
        "我喜歡吃巧克力，也喜歡嘗試各種新食物。\n",
        "\n",
        "你呢？你最喜歡的食物是什麼？**:披薩**。\n",
        "\n",
        "我也喜歡 *披薩*。\n",
        "\n",
        "你多久吃一次 *披薩*？**：每天**。\n",
        "\n",
        "真有趣。不知道這樣對健康好不好。"
      ]
    },
    {
      "cell_type": "code",
      "metadata": {
        "id": "W2Whmw2Rs3rE",
        "colab": {
          "base_uri": "https://localhost:8080/"
        },
        "outputId": "43ae3131-c1c9-4fe4-dad7-04c1b9c1be2a"
      },
      "source": [
        "# 4 興趣\n",
        "## 4-1 食物話題\n",
        "print(\"我喜歡吃巧克力，也喜歡嘗試各種新食物。\")\n",
        "food= input(\"你呢？你最喜歡的食物是什麼？\")\n",
        "print(f\"我也喜歡{food}。\")\n",
        "howoften= input(\"你多久吃一次\" + food +\"?\")\n",
        "print(\"真有趣。不知道這樣對健康好不好。\")"
      ],
      "execution_count": 12,
      "outputs": [
        {
          "output_type": "stream",
          "text": [
            "我喜歡吃巧克力，也喜歡嘗試各種新食物。\n",
            "你呢？你最喜歡的食物是什麼？pizza\n",
            "我也喜歡pizza。\n",
            "你多久吃一次pizza?everyday\n",
            "真有趣。不知道這樣對健康好不好。\n"
          ],
          "name": "stdout"
        }
      ]
    },
    {
      "cell_type": "markdown",
      "metadata": {
        "id": "6rwjzGLFs3rF"
      },
      "source": [
        "我最喜歡的動物是長頸鹿。你呢？ **：烏龜**。\n",
        "\n",
        "我不喜歡*烏龜*！\n",
        "\n",
        "不知道 *烏龜* 喜不喜歡吃 *披薩*？"
      ]
    },
    {
      "cell_type": "code",
      "metadata": {
        "id": "MdO9wF0Us3rH",
        "colab": {
          "base_uri": "https://localhost:8080/"
        },
        "outputId": "b7e560ae-e90c-42d5-84ae-938f81e78db8"
      },
      "source": [
        "# 4 興趣\n",
        "## 4-2 動物話題\n",
        "animal=input(\"我最喜歡的動物是長頸鹿。你呢？ \")\n",
        "print(f\"我不喜歡{animal}!\")\n",
        "print(f\"不知道 {animal} 喜不喜歡吃 {food}？\")"
      ],
      "execution_count": 13,
      "outputs": [
        {
          "output_type": "stream",
          "text": [
            "我最喜歡的動物是長頸鹿。你呢？ cat\n",
            "我不喜歡cat!\n",
            "不知道 cat 喜不喜歡吃 pizza？\n"
          ],
          "name": "stdout"
        }
      ]
    },
    {
      "cell_type": "markdown",
      "metadata": {
        "id": "FzG8O8WYs3rH"
      },
      "source": [
        "你今天的心情如何？ **：很開心**。\n",
        "\n",
        "可以告訴我你 *開心* 的原因嗎？**因為週末了！** \n",
        "\n",
        "祝你週末愉快！\n",
        "\n",
        "我喜歡跟你聊天，現在有點累了，改天再聊吧！！\n",
        "\n",
        "再見 *Francis*！"
      ]
    },
    {
      "cell_type": "code",
      "metadata": {
        "id": "Ox2CkflGs3rI",
        "colab": {
          "base_uri": "https://localhost:8080/"
        },
        "outputId": "794bd3ae-535c-43a3-a615-767b75b9ac57"
      },
      "source": [
        "# 5. 關於心情的對話\n",
        "mood=input(\"How is your feeling today?\")\n",
        "print(f\"Could you tell me the reason why you feel {mood}?\")\n",
        "reason= input(\"why?\")\n",
        "print(\"Have a good day!\")"
      ],
      "execution_count": 14,
      "outputs": [
        {
          "output_type": "stream",
          "text": [
            "How is your feeling today?nice\n",
            "Could you tell me the reason why you feel nice?\n",
            "why?today is ma birthday\n",
            "Have a good day!\n"
          ],
          "name": "stdout"
        }
      ]
    },
    {
      "cell_type": "markdown",
      "metadata": {
        "id": "88kuGuWis3rI"
      },
      "source": [
        "我喜歡跟你聊天，現在有點累了，改天再聊吧！！\n",
        "\n",
        "再見 *Francis*！"
      ]
    },
    {
      "cell_type": "code",
      "metadata": {
        "id": "HIDvvWY6s3rJ",
        "colab": {
          "base_uri": "https://localhost:8080/"
        },
        "outputId": "3d7f79bf-7f69-4851-93ba-b2928bf72361"
      },
      "source": [
        "# 6. 道別\n",
        "print(\"I feel happy to chat with you, bou I am a little bit tired now, see you next time!\")\n",
        "print(f\" Good bye! {name}\")"
      ],
      "execution_count": 16,
      "outputs": [
        {
          "output_type": "stream",
          "text": [
            "I feel happy to chat with you, bou I am a little bit tired now, see you next time!\n",
            " Good bye! Christine\n"
          ],
          "name": "stdout"
        }
      ]
    },
    {
      "cell_type": "markdown",
      "metadata": {
        "id": "eE1DW_M5s3rJ"
      },
      "source": [
        "## 期末報告"
      ]
    },
    {
      "cell_type": "markdown",
      "metadata": {
        "id": "HaKHL-t6s3rK"
      },
      "source": [
        "### 組長(學號姓名):A109010016楊益慈\n",
        "\n"
      ]
    },
    {
      "cell_type": "markdown",
      "metadata": {
        "id": "etlkg8AMs3rK"
      },
      "source": [
        "### 組員(學號姓名):\n",
        "A109010034羅婄文\n",
        "A109010172李詠瑜\n",
        "\n"
      ]
    },
    {
      "cell_type": "markdown",
      "metadata": {
        "id": "58yoanxas3rL"
      },
      "source": [
        "### 題目:"
      ]
    },
    {
      "cell_type": "markdown",
      "metadata": {
        "id": "trt2m0FGs3rL"
      },
      "source": [
        "### 百字腳本\n",
        "\n"
      ]
    }
  ]
}