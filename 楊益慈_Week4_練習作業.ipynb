{
  "nbformat": 4,
  "nbformat_minor": 0,
  "metadata": {
    "colab": {
      "name": "楊益慈-Week4-練習作業.ipynb",
      "provenance": [],
      "authorship_tag": "ABX9TyPF+fTnM/x9gjoXuxeWeNWP",
      "include_colab_link": true
    },
    "kernelspec": {
      "name": "python3",
      "display_name": "Python 3"
    }
  },
  "cells": [
    {
      "cell_type": "markdown",
      "metadata": {
        "id": "view-in-github",
        "colab_type": "text"
      },
      "source": [
        "<a href=\"https://colab.research.google.com/github/A109010016/Computational-Thinking-and-Program-Design/blob/main/%E6%A5%8A%E7%9B%8A%E6%85%88_Week4_%E7%B7%B4%E7%BF%92%E4%BD%9C%E6%A5%AD.ipynb\" target=\"_parent\"><img src=\"https://colab.research.google.com/assets/colab-badge.svg\" alt=\"Open In Colab\"/></a>"
      ]
    },
    {
      "cell_type": "markdown",
      "metadata": {
        "id": "duM5amCkVc5s"
      },
      "source": [
        "#隨堂練習  \r\n",
        "**各單元重點摘要**\r\n",
        "\r\n",
        "1.之後的每堂課皆需要開啟新的colab筆記本，修改檔案名稱。\r\n",
        "\r\n",
        "2.完成作業之後，儲存colab檔案，另外再存入雲端。\r\n",
        "\r\n",
        "3.井字號再句首句末表示文字大小，越多越小。\r\n",
        "\r\n",
        "\r\n",
        "#課後練習  \r\n",
        "**從一則新聞報導，提出你對新聞系（OO系）學生為什麼要學「運算思維與程式設計」的見解。（告訴我新聞連結，以及你的觀點即可。）**"
      ]
    },
    {
      "cell_type": "markdown",
      "metadata": {
        "id": "fStEk1e2X1pE"
      },
      "source": [
        "[連結文字]https://news.tvbs.com.tw/life/1452842\r\n",
        "\r\n",
        "    我認為會的技能越多，就對未來越有幫助。掌握「運算思維與程式設計」技巧對新聞系也受益良多。\r\n",
        "    舉例而言，當新聞所需處理的原始資料來源很多、很繁複、難以靠自己記得，更難自己一一輸入時，懂程式設計的記者最能搶得先機，成功播報最快速的新聞！\r\n",
        "    就如同這則發票中獎的新聞一樣，記者需要整理中獎號碼、月份、價格，以及哪些縣市的哪幾家店開出多少錢買什麼物品的繁瑣資料。學習「程式設計」真的能提高工作效率，更可能升職加薪。"
      ]
    },
    {
      "cell_type": "code",
      "metadata": {
        "id": "daACF2c2eEDZ"
      },
      "source": [
        ""
      ],
      "execution_count": null,
      "outputs": []
    }
  ]
}